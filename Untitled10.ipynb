{
  "nbformat": 4,
  "nbformat_minor": 0,
  "metadata": {
    "colab": {
      "provenance": [],
      "authorship_tag": "ABX9TyPLLbiBvH+yj9khoyNXaOo9",
      "include_colab_link": true
    },
    "kernelspec": {
      "name": "python3",
      "display_name": "Python 3"
    },
    "language_info": {
      "name": "python"
    }
  },
  "cells": [
    {
      "cell_type": "markdown",
      "metadata": {
        "id": "view-in-github",
        "colab_type": "text"
      },
      "source": [
        "<a href=\"https://colab.research.google.com/github/saiprudhvi09/Assignment9/blob/main/Untitled10.ipynb\" target=\"_parent\"><img src=\"https://colab.research.google.com/assets/colab-badge.svg\" alt=\"Open In Colab\"/></a>"
      ]
    },
    {
      "cell_type": "code",
      "execution_count": 2,
      "metadata": {
        "colab": {
          "base_uri": "https://localhost:8080/"
        },
        "id": "-A7_gEDiSX65",
        "outputId": "e8e0cbe9-72ed-4a53-b4f8-3b4ee11bfcdc"
      },
      "outputs": [
        {
          "output_type": "stream",
          "name": "stderr",
          "text": [
            "<ipython-input-2-1e3deff15626>:24: SettingWithCopyWarning: \n",
            "A value is trying to be set on a copy of a slice from a DataFrame.\n",
            "Try using .loc[row_indexer,col_indexer] = value instead\n",
            "\n",
            "See the caveats in the documentation: https://pandas.pydata.org/pandas-docs/stable/user_guide/indexing.html#returning-a-view-versus-a-copy\n",
            "  data['text'] = data['text'].apply(lambda x: x.lower())\n",
            "<ipython-input-2-1e3deff15626>:25: SettingWithCopyWarning: \n",
            "A value is trying to be set on a copy of a slice from a DataFrame.\n",
            "Try using .loc[row_indexer,col_indexer] = value instead\n",
            "\n",
            "See the caveats in the documentation: https://pandas.pydata.org/pandas-docs/stable/user_guide/indexing.html#returning-a-view-versus-a-copy\n",
            "  data['text'] = data['text'].apply((lambda x: re.sub('[^a-zA-z0-9\\s]', '', x)))\n"
          ]
        }
      ],
      "source": [
        "import pandas as pd #Basic packages for creating dataframes and loading dataset\n",
        "import numpy as np\n",
        "import matplotlib.pyplot as plt #Package for visualization\n",
        "import re #importing package for Regular expression operations\n",
        "from sklearn.model_selection import train_test_split #Package for splitting the data\n",
        "from sklearn.preprocessing import LabelEncoder #Package for conversion of categorical to Numerical\n",
        "from keras.preprocessing.text import Tokenizer #Tokenization\n",
        "from keras.preprocessing.sequence import pad_sequences #Add zeros or crop based on the length\n",
        "from keras.models import Sequential #Sequential Neural Network\n",
        "from keras.layers import Dense, Embedding, LSTM, SpatialDropout1D #For layers in Neural Network\n",
        "from keras.utils import to_categorical\n",
        "\n",
        "\n",
        "import pandas as pd\n",
        "\n",
        "# Load the dataset as a Pandas DataFrame\n",
        "dataset = pd.read_csv('Sentiment.csv')\n",
        "\n",
        "# Select only the necessary columns 'text' and 'sentiment'\n",
        "mask = dataset.columns.isin(['text', 'sentiment'])\n",
        "data = dataset.loc[:, mask]\n",
        "\n",
        "\n",
        "data['text'] = data['text'].apply(lambda x: x.lower())\n",
        "data['text'] = data['text'].apply((lambda x: re.sub('[^a-zA-z0-9\\s]', '', x)))\n"
      ]
    },
    {
      "cell_type": "code",
      "source": [
        "for idx, row in data.iterrows():\n",
        "    row[0] = row[0].replace('rt', ' ') #Removing Retweets\n",
        "\n",
        "\n",
        "max_fatures = 2000\n",
        "tokenizer = Tokenizer(num_words=max_fatures, split=' ') #Maximum words is 2000 to tokenize sentence\n",
        "tokenizer.fit_on_texts(data['text'].values)\n",
        "X = tokenizer.texts_to_sequences(data['text'].values) #taking values to feature matrix\n",
        "\n",
        "\n",
        "\n",
        "X = pad_sequences(X) #Padding the feature matrix\n",
        "\n",
        "embed_dim = 128 #Dimension of the Embedded layer\n",
        "lstm_out = 196 #Long short-term memory (LSTM) layer neurons\n",
        "\n",
        "\n",
        "def createmodel():\n",
        "    model = Sequential() #Sequential Neural Network\n",
        "    model.add(Embedding(max_fatures, embed_dim,input_length = X.shape[1])) #input dimension 2000 Neurons, output dimension 128 Neurons\n",
        "    model.add(LSTM(lstm_out, dropout=0.2, recurrent_dropout=0.2)) #Drop out 20%, 196 output Neurons, recurrent dropout 20%\n",
        "    model.add(Dense(3,activation='softmax')) #3 output neurons[positive, Neutral, Negative], softmax as activation\n",
        "    model.compile(loss = 'categorical_crossentropy', optimizer='adam',metrics = ['accuracy']) #Compiling the model\n",
        "    return model\n",
        "# print(model.summary())\n",
        "\n",
        "\n",
        "labelencoder = LabelEncoder() #Applying label Encoding on the label matrix\n",
        "integer_encoded = labelencoder.fit_transform(data['sentiment']) #fitting the model\n",
        "y = to_categorical(integer_encoded)\n",
        "X_train, X_test, Y_train, Y_test = train_test_split(X,y, test_size = 0.33, random_state = 42) #67% training data, 33% test data split\n",
        "\n",
        "\n",
        "batch_size = 32 #Batch size 32\n",
        "model = createmodel() #Function call to Sequential Neural Network\n",
        "model.fit(X_train, Y_train, epochs = 1, batch_size=batch_size, verbose = 2) #verbose the higher, the more messages\n",
        "score,acc = model.evaluate(X_test,Y_test,verbose=2,batch_size=batch_size) #evaluating the model\n",
        "print(score)\n",
        "print(acc)\n"
      ],
      "metadata": {
        "colab": {
          "base_uri": "https://localhost:8080/"
        },
        "id": "x4eFJoEFThwM",
        "outputId": "1addfc2c-23c0-4a61-f5d3-2491c4dfe6ba"
      },
      "execution_count": 3,
      "outputs": [
        {
          "output_type": "stream",
          "name": "stdout",
          "text": [
            "230/230 - 36s - loss: 0.8565 - accuracy: 0.6297 - 36s/epoch - 155ms/step\n",
            "113/113 - 3s - loss: 0.8048 - accuracy: 0.6447 - 3s/epoch - 23ms/step\n",
            "0.804817259311676\n",
            "0.6446967720985413\n"
          ]
        }
      ]
    },
    {
      "cell_type": "code",
      "source": [
        "print(model.metrics_names) #metrics of the model\n"
      ],
      "metadata": {
        "colab": {
          "base_uri": "https://localhost:8080/"
        },
        "id": "RB7yqvk6ULcC",
        "outputId": "cb9e7710-f6d6-4b58-9925-fcf186d70987"
      },
      "execution_count": 4,
      "outputs": [
        {
          "output_type": "stream",
          "name": "stdout",
          "text": [
            "['loss', 'accuracy']\n"
          ]
        }
      ]
    },
    {
      "cell_type": "code",
      "source": [
        "model.save('sentimentAnalysis.h5') #Saving the model\n"
      ],
      "metadata": {
        "colab": {
          "base_uri": "https://localhost:8080/"
        },
        "id": "SE6YMf9XURI2",
        "outputId": "bed2bb31-59be-41ab-d71f-99adb00ec90f"
      },
      "execution_count": 5,
      "outputs": [
        {
          "output_type": "stream",
          "name": "stderr",
          "text": [
            "/usr/local/lib/python3.10/dist-packages/keras/src/engine/training.py:3103: UserWarning: You are saving your model as an HDF5 file via `model.save()`. This file format is considered legacy. We recommend using instead the native Keras format, e.g. `model.save('my_model.keras')`.\n",
            "  saving_api.save_model(\n"
          ]
        }
      ]
    },
    {
      "cell_type": "code",
      "source": [
        "from keras.models import load_model #Importing the package for importing the saved model\n",
        "model= load_model('sentimentAnalysis.h5') #loading the saved model\n",
        "print(integer_encoded)\n",
        "print(data['sentiment'])\n",
        "\n"
      ],
      "metadata": {
        "colab": {
          "base_uri": "https://localhost:8080/"
        },
        "id": "-7lyo-hKUZUr",
        "outputId": "cbe8ad50-d850-4251-9915-2b39abd1840f"
      },
      "execution_count": 7,
      "outputs": [
        {
          "output_type": "stream",
          "name": "stdout",
          "text": [
            "[1 2 1 ... 1 0 0]\n",
            "0         Neutral\n",
            "1        Positive\n",
            "2         Neutral\n",
            "3        Positive\n",
            "4        Positive\n",
            "           ...   \n",
            "10936    Positive\n",
            "10937    Negative\n",
            "10938     Neutral\n",
            "10939    Negative\n",
            "10940    Negative\n",
            "Name: sentiment, Length: 10941, dtype: object\n"
          ]
        }
      ]
    },
    {
      "cell_type": "code",
      "source": [
        "# Predicting on the text data\n",
        "sentence = ['A lot of good things are happening. We are respected again throughout the world, and that is a great thing.@realDonaldTrump']\n",
        "sentence = tokenizer.texts_to_sequences(sentence) # Tokenizing the sentence\n",
        "sentence = pad_sequences(sentence, maxlen=28, dtype='int32', value=0) # Padding the sentence\n",
        "sentiment_probs = model.predict(sentence, batch_size=1, verbose=2)[0] # Predicting the sentence text\n",
        "sentiment = np.argmax(sentiment_probs)\n",
        "\n",
        "print(sentiment_probs)\n",
        "if sentiment == 0:\n",
        "    print(\"Neutral\")\n",
        "elif sentiment < 0:\n",
        "    print(\"Negative\")\n",
        "elif sentiment > 0:\n",
        "    print(\"Positive\")\n",
        "else:\n",
        "    print(\"Cannot be determined\")\n"
      ],
      "metadata": {
        "colab": {
          "base_uri": "https://localhost:8080/"
        },
        "id": "fNL7qdD7UnWt",
        "outputId": "419d6f10-a8cb-468b-dde3-5a18c506117c"
      },
      "execution_count": 8,
      "outputs": [
        {
          "output_type": "stream",
          "name": "stdout",
          "text": [
            "1/1 - 0s - 318ms/epoch - 318ms/step\n",
            "[0.35333583 0.11426405 0.5324002 ]\n",
            "Positive\n"
          ]
        }
      ]
    },
    {
      "cell_type": "code",
      "source": [
        "pip install scikeras\n"
      ],
      "metadata": {
        "colab": {
          "base_uri": "https://localhost:8080/"
        },
        "id": "FFRFHsQ_UuuY",
        "outputId": "cdf4bade-64f7-464c-b013-02235e5da2ef"
      },
      "execution_count": 9,
      "outputs": [
        {
          "output_type": "stream",
          "name": "stdout",
          "text": [
            "Collecting scikeras\n",
            "  Downloading scikeras-0.12.0-py3-none-any.whl (27 kB)\n",
            "Requirement already satisfied: packaging>=0.21 in /usr/local/lib/python3.10/dist-packages (from scikeras) (24.0)\n",
            "Requirement already satisfied: scikit-learn>=1.0.0 in /usr/local/lib/python3.10/dist-packages (from scikeras) (1.2.2)\n",
            "Requirement already satisfied: numpy>=1.17.3 in /usr/local/lib/python3.10/dist-packages (from scikit-learn>=1.0.0->scikeras) (1.25.2)\n",
            "Requirement already satisfied: scipy>=1.3.2 in /usr/local/lib/python3.10/dist-packages (from scikit-learn>=1.0.0->scikeras) (1.11.4)\n",
            "Requirement already satisfied: joblib>=1.1.1 in /usr/local/lib/python3.10/dist-packages (from scikit-learn>=1.0.0->scikeras) (1.3.2)\n",
            "Requirement already satisfied: threadpoolctl>=2.0.0 in /usr/local/lib/python3.10/dist-packages (from scikit-learn>=1.0.0->scikeras) (3.4.0)\n",
            "Installing collected packages: scikeras\n",
            "Successfully installed scikeras-0.12.0\n"
          ]
        }
      ]
    },
    {
      "cell_type": "code",
      "source": [
        "from scikeras.wrappers import KerasClassifier #importing Keras classifier\n",
        "\n",
        "from sklearn.model_selection import GridSearchCV #importing Grid search CV\n",
        "\n",
        "model = KerasClassifier(model=createmodel,verbose=2) #initiating model to test performance by applying multiple hyper parameters\n",
        "batch_size= [10, 20, 40] #hyper parameter batch_size\n",
        "epochs = [1, 2] #hyper parameter no. of epochs\n",
        "param_grid= {'batch_size':batch_size, 'epochs':epochs} #creating dictionary for batch size, no. of epochs\n",
        "grid  = GridSearchCV(estimator=model, param_grid=param_grid) #Applying dictionary with hyper parameters\n",
        "grid_result= grid.fit(X_train,Y_train) #Fitting the model\n",
        "# summarize results\n",
        "print(\"Best: %f using %s\" % (grid_result.best_score_, grid_result.best_params_)) #best score, best hyper parameters\n"
      ],
      "metadata": {
        "colab": {
          "base_uri": "https://localhost:8080/"
        },
        "id": "OtdNvvGpU0uw",
        "outputId": "8186a300-192e-4da0-819b-e5057144e026"
      },
      "execution_count": 10,
      "outputs": [
        {
          "output_type": "stream",
          "name": "stdout",
          "text": [
            "587/587 - 85s - loss: 0.8480 - accuracy: 0.6345 - 85s/epoch - 145ms/step\n",
            "147/147 - 2s - 2s/epoch - 16ms/step\n",
            "587/587 - 75s - loss: 0.8529 - accuracy: 0.6306 - 75s/epoch - 127ms/step\n",
            "147/147 - 3s - 3s/epoch - 21ms/step\n",
            "587/587 - 73s - loss: 0.8568 - accuracy: 0.6306 - 73s/epoch - 125ms/step\n",
            "147/147 - 2s - 2s/epoch - 16ms/step\n",
            "587/587 - 73s - loss: 0.8539 - accuracy: 0.6347 - 73s/epoch - 125ms/step\n",
            "147/147 - 2s - 2s/epoch - 14ms/step\n",
            "587/587 - 75s - loss: 0.8516 - accuracy: 0.6313 - 75s/epoch - 127ms/step\n",
            "147/147 - 2s - 2s/epoch - 14ms/step\n",
            "Epoch 1/2\n",
            "587/587 - 76s - loss: 0.8520 - accuracy: 0.6323 - 76s/epoch - 129ms/step\n",
            "Epoch 2/2\n",
            "587/587 - 72s - loss: 0.6993 - accuracy: 0.7014 - 72s/epoch - 122ms/step\n",
            "147/147 - 3s - 3s/epoch - 21ms/step\n",
            "Epoch 1/2\n",
            "587/587 - 72s - loss: 0.8568 - accuracy: 0.6303 - 72s/epoch - 123ms/step\n",
            "Epoch 2/2\n",
            "587/587 - 67s - loss: 0.7063 - accuracy: 0.7029 - 67s/epoch - 114ms/step\n",
            "147/147 - 2s - 2s/epoch - 14ms/step\n",
            "Epoch 1/2\n",
            "587/587 - 72s - loss: 0.8588 - accuracy: 0.6306 - 72s/epoch - 123ms/step\n",
            "Epoch 2/2\n",
            "587/587 - 67s - loss: 0.7040 - accuracy: 0.7067 - 67s/epoch - 114ms/step\n",
            "147/147 - 2s - 2s/epoch - 13ms/step\n",
            "Epoch 1/2\n",
            "587/587 - 72s - loss: 0.8547 - accuracy: 0.6313 - 72s/epoch - 123ms/step\n",
            "Epoch 2/2\n",
            "587/587 - 67s - loss: 0.7006 - accuracy: 0.7029 - 67s/epoch - 114ms/step\n",
            "147/147 - 2s - 2s/epoch - 13ms/step\n",
            "Epoch 1/2\n",
            "587/587 - 71s - loss: 0.8568 - accuracy: 0.6317 - 71s/epoch - 122ms/step\n",
            "Epoch 2/2\n",
            "587/587 - 70s - loss: 0.6999 - accuracy: 0.7024 - 70s/epoch - 119ms/step\n",
            "147/147 - 2s - 2s/epoch - 14ms/step\n",
            "294/294 - 43s - loss: 0.8544 - accuracy: 0.6318 - 43s/epoch - 146ms/step\n",
            "74/74 - 1s - 1s/epoch - 19ms/step\n",
            "294/294 - 41s - loss: 0.8643 - accuracy: 0.6260 - 41s/epoch - 140ms/step\n",
            "74/74 - 2s - 2s/epoch - 32ms/step\n",
            "294/294 - 42s - loss: 0.8659 - accuracy: 0.6296 - 42s/epoch - 144ms/step\n",
            "74/74 - 1s - 1s/epoch - 19ms/step\n",
            "294/294 - 42s - loss: 0.8677 - accuracy: 0.6241 - 42s/epoch - 144ms/step\n",
            "74/74 - 1s - 1s/epoch - 20ms/step\n",
            "294/294 - 42s - loss: 0.8544 - accuracy: 0.6291 - 42s/epoch - 143ms/step\n",
            "74/74 - 1s - 1s/epoch - 19ms/step\n",
            "Epoch 1/2\n",
            "294/294 - 41s - loss: 0.8539 - accuracy: 0.6299 - 41s/epoch - 140ms/step\n",
            "Epoch 2/2\n",
            "294/294 - 39s - loss: 0.6941 - accuracy: 0.7041 - 39s/epoch - 131ms/step\n",
            "74/74 - 1s - 1s/epoch - 19ms/step\n",
            "Epoch 1/2\n",
            "294/294 - 42s - loss: 0.8632 - accuracy: 0.6299 - 42s/epoch - 142ms/step\n",
            "Epoch 2/2\n",
            "294/294 - 38s - loss: 0.7061 - accuracy: 0.7040 - 38s/epoch - 129ms/step\n",
            "74/74 - 1s - 1s/epoch - 20ms/step\n",
            "Epoch 1/2\n",
            "294/294 - 41s - loss: 0.8774 - accuracy: 0.6202 - 41s/epoch - 140ms/step\n",
            "Epoch 2/2\n",
            "294/294 - 37s - loss: 0.7117 - accuracy: 0.6985 - 37s/epoch - 127ms/step\n",
            "74/74 - 1s - 1s/epoch - 19ms/step\n",
            "Epoch 1/2\n",
            "294/294 - 42s - loss: 0.8660 - accuracy: 0.6269 - 42s/epoch - 144ms/step\n",
            "Epoch 2/2\n",
            "294/294 - 38s - loss: 0.6930 - accuracy: 0.7086 - 38s/epoch - 129ms/step\n",
            "74/74 - 2s - 2s/epoch - 31ms/step\n",
            "Epoch 1/2\n",
            "294/294 - 41s - loss: 0.8543 - accuracy: 0.6250 - 41s/epoch - 141ms/step\n",
            "Epoch 2/2\n",
            "294/294 - 38s - loss: 0.6863 - accuracy: 0.7057 - 38s/epoch - 130ms/step\n",
            "74/74 - 1s - 1s/epoch - 19ms/step\n",
            "147/147 - 30s - loss: 0.8824 - accuracy: 0.6175 - 30s/epoch - 205ms/step\n",
            "37/37 - 1s - 1s/epoch - 27ms/step\n",
            "147/147 - 27s - loss: 0.8777 - accuracy: 0.6223 - 27s/epoch - 183ms/step\n",
            "37/37 - 1s - 1s/epoch - 27ms/step\n",
            "147/147 - 28s - loss: 0.8781 - accuracy: 0.6153 - 28s/epoch - 187ms/step\n",
            "37/37 - 1s - 1s/epoch - 28ms/step\n",
            "147/147 - 29s - loss: 0.8790 - accuracy: 0.6194 - 29s/epoch - 200ms/step\n",
            "37/37 - 1s - 1s/epoch - 30ms/step\n",
            "147/147 - 29s - loss: 0.8631 - accuracy: 0.6272 - 29s/epoch - 195ms/step\n",
            "37/37 - 1s - 1s/epoch - 28ms/step\n",
            "Epoch 1/2\n",
            "147/147 - 27s - loss: 0.8772 - accuracy: 0.6173 - 27s/epoch - 184ms/step\n",
            "Epoch 2/2\n",
            "147/147 - 24s - loss: 0.7118 - accuracy: 0.6930 - 24s/epoch - 161ms/step\n",
            "37/37 - 1s - 988ms/epoch - 27ms/step\n",
            "Epoch 1/2\n",
            "147/147 - 28s - loss: 0.8777 - accuracy: 0.6236 - 28s/epoch - 193ms/step\n",
            "Epoch 2/2\n",
            "147/147 - 24s - loss: 0.7283 - accuracy: 0.6874 - 24s/epoch - 162ms/step\n",
            "37/37 - 1s - 1s/epoch - 27ms/step\n",
            "Epoch 1/2\n",
            "147/147 - 27s - loss: 0.8704 - accuracy: 0.6206 - 27s/epoch - 185ms/step\n",
            "Epoch 2/2\n",
            "147/147 - 24s - loss: 0.7126 - accuracy: 0.6961 - 24s/epoch - 161ms/step\n",
            "37/37 - 1s - 987ms/epoch - 27ms/step\n",
            "Epoch 1/2\n",
            "147/147 - 28s - loss: 0.8720 - accuracy: 0.6206 - 28s/epoch - 189ms/step\n",
            "Epoch 2/2\n",
            "147/147 - 23s - loss: 0.7092 - accuracy: 0.6937 - 23s/epoch - 158ms/step\n",
            "37/37 - 1s - 991ms/epoch - 27ms/step\n",
            "Epoch 1/2\n",
            "147/147 - 28s - loss: 0.8684 - accuracy: 0.6183 - 28s/epoch - 190ms/step\n",
            "Epoch 2/2\n",
            "147/147 - 23s - loss: 0.7038 - accuracy: 0.6980 - 23s/epoch - 155ms/step\n",
            "37/37 - 1s - 1s/epoch - 27ms/step\n",
            "Epoch 1/2\n",
            "184/184 - 32s - loss: 0.8535 - accuracy: 0.6276 - 32s/epoch - 174ms/step\n",
            "Epoch 2/2\n",
            "184/184 - 31s - loss: 0.7079 - accuracy: 0.7044 - 31s/epoch - 169ms/step\n",
            "Best: 0.665484 using {'batch_size': 40, 'epochs': 2}\n"
          ]
        }
      ]
    }
  ]
}